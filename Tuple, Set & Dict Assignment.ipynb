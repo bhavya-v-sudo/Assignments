{
 "cells": [
  {
   "cell_type": "markdown",
   "id": "dbbb5a50",
   "metadata": {},
   "source": [
    "Q1. What are the characteristics of the tuples? Is tuple immutable?"
   ]
  },
  {
   "cell_type": "markdown",
   "id": "e9b90a38",
   "metadata": {},
   "source": [
    "1. Python Tuple is a collection of objects separated by commas in round brackets.\n",
    "\n",
    "2. Tuple is indexable.\n",
    "\n",
    "3. It is Ordered.\n",
    "\n",
    "4. Tuple is Immutable - Once a tuple is created, you can't change it.\n",
    "\n",
    "<br>"
   ]
  },
  {
   "cell_type": "markdown",
   "id": "30c20df7",
   "metadata": {},
   "source": [
    "Q2. What are the two tuple methods in python? Give an example of each method. Give a reason why\n",
    "tuples have only two in-built methods as compared to Lists."
   ]
  },
  {
   "cell_type": "markdown",
   "id": "b3f4048a",
   "metadata": {},
   "source": [
    "Count - This method returns the number of times a specified element repeats itself inside a tuple. \n",
    "\n",
    "Index - This method is used to return the index value of the specified element. "
   ]
  },
  {
   "cell_type": "code",
   "execution_count": 30,
   "id": "60e9f483",
   "metadata": {},
   "outputs": [
    {
     "data": {
      "text/plain": [
       "2"
      ]
     },
     "execution_count": 30,
     "metadata": {},
     "output_type": "execute_result"
    }
   ],
   "source": [
    "vowel1 = ('a', 'e', 'i', 'i', 'o', 'o', 'u')\n",
    "count1 = vowel1.count('i')\n",
    "count1"
   ]
  },
  {
   "cell_type": "code",
   "execution_count": 31,
   "id": "64b7c529",
   "metadata": {},
   "outputs": [
    {
     "data": {
      "text/plain": [
       "2"
      ]
     },
     "execution_count": 31,
     "metadata": {},
     "output_type": "execute_result"
    }
   ],
   "source": [
    "vowel2 = ('a', 'e', 'i', 'i', 'o', 'o', 'u')\n",
    "count2 = vowel2.index('i')\n",
    "count1"
   ]
  },
  {
   "cell_type": "markdown",
   "id": "9d8816fc",
   "metadata": {},
   "source": [
    "<br>\n",
    "Q3.  Which collection datatypes in python do not allow duplicate items? Write a code using a set to remove\n",
    "duplicates from the given list.\n",
    "\n",
    "\n",
    "List = [1, 1, 1, 2, 1, 3, 1, 4, 2, 1, 2, 2, 2, 3, 2, 4, 3, 1, 3, 2, 3, 3, 3, 4, 4, 1, 4, 2, 4, 3, 4, 4]"
   ]
  },
  {
   "cell_type": "markdown",
   "id": "88864dc4",
   "metadata": {},
   "source": [
    "The set data type does not allow duplicates. "
   ]
  },
  {
   "cell_type": "code",
   "execution_count": 32,
   "id": "cce29f7e",
   "metadata": {},
   "outputs": [
    {
     "data": {
      "text/plain": [
       "{1, 2, 3, 4}"
      ]
     },
     "execution_count": 32,
     "metadata": {},
     "output_type": "execute_result"
    }
   ],
   "source": [
    "List = [1, 1, 1, 2, 1, 3, 1, 4, 2, 1, 2, 2, 2, 3, 2, 4, 3, 1, 3, 2, 3, 3, 3, 4, 4, 1, 4, 2, 4, 3, 4, 4]\n",
    "set(List)"
   ]
  },
  {
   "cell_type": "markdown",
   "id": "47c0057d",
   "metadata": {},
   "source": [
    "<br>\n",
    "Q4. Explain the difference between the union() and update() methods for a set. Give an example of\n",
    "each method."
   ]
  },
  {
   "cell_type": "markdown",
   "id": "caabc4b2",
   "metadata": {},
   "source": [
    "union() returns a new set which adds all the elements from both the sets.\n",
    "\n",
    "update() modifies the set it is called on to include all the elements from both sets."
   ]
  },
  {
   "cell_type": "code",
   "execution_count": 21,
   "id": "920dfa11",
   "metadata": {},
   "outputs": [],
   "source": [
    "set1 = {1, 3, 4}\n",
    "set2 = {3, 5, 8}\n",
    "set3 = set1.union(set2)\n",
    "set1.update(set2)"
   ]
  },
  {
   "cell_type": "code",
   "execution_count": 22,
   "id": "02263839",
   "metadata": {},
   "outputs": [
    {
     "data": {
      "text/plain": [
       "{1, 3, 4, 5, 8}"
      ]
     },
     "execution_count": 22,
     "metadata": {},
     "output_type": "execute_result"
    }
   ],
   "source": [
    "set1"
   ]
  },
  {
   "cell_type": "markdown",
   "id": "6ad11a16",
   "metadata": {},
   "source": [
    "<br>\n",
    "Q5. What is a dictionary? Give an example. Also, state whether a dictionary is ordered or unordered."
   ]
  },
  {
   "cell_type": "markdown",
   "id": "9e72030b",
   "metadata": {},
   "source": [
    "Dictionaries are used to store data values in key:value pairs. \n",
    "\n",
    "dict1 = {1: 'This', 2: 'is', 3: 'a', 4: 'Dictionary'}\n",
    "\n",
    "A dictionary is a collection which is ordered."
   ]
  },
  {
   "cell_type": "markdown",
   "id": "d3a42dd3",
   "metadata": {},
   "source": [
    "<br>\n",
    "Q6. Can we create a nested dictionary? If so, please give an example by creating a simple one-level\n",
    "nested dictionary."
   ]
  },
  {
   "cell_type": "markdown",
   "id": "1d8c39fa",
   "metadata": {},
   "source": [
    "yes we can create a nested dictionary."
   ]
  },
  {
   "cell_type": "code",
   "execution_count": 33,
   "id": "e528fded",
   "metadata": {},
   "outputs": [],
   "source": [
    "dict1 = {\n",
    "    '1' : 'Hey',\n",
    "    '2' : 'this',\n",
    "    'dict2' : {\n",
    "        'A' : 'Dictionary',\n",
    "        'B' : 'Is',\n",
    "        'C' : 'Nested'\n",
    "    }\n",
    "}"
   ]
  },
  {
   "cell_type": "markdown",
   "id": "0b7bc929",
   "metadata": {},
   "source": [
    "<br>\n",
    "Q7. Using setdefault() method, create key named topics in the given dictionary and also add the value of\n",
    "the key as this list ['Python', 'Machine Learning’, 'Deep Learning']\n",
    "\n",
    "\n",
    "dict1 = {'language' : 'Python', 'course': 'Data Science Masters'}"
   ]
  },
  {
   "cell_type": "code",
   "execution_count": 34,
   "id": "3d49a96f",
   "metadata": {},
   "outputs": [],
   "source": [
    "dict1 = {'language' : 'Python', 'course': 'Data Science Masters'}"
   ]
  },
  {
   "cell_type": "code",
   "execution_count": 35,
   "id": "d64c350a",
   "metadata": {},
   "outputs": [
    {
     "data": {
      "text/plain": [
       "['Python', 'Machine Learning', 'Deep Learning']"
      ]
     },
     "execution_count": 35,
     "metadata": {},
     "output_type": "execute_result"
    }
   ],
   "source": [
    "dict1.setdefault('topic', ['Python', 'Machine Learning', 'Deep Learning'])"
   ]
  },
  {
   "cell_type": "code",
   "execution_count": 36,
   "id": "a88f8b4a",
   "metadata": {},
   "outputs": [],
   "source": [
    "dict1['topic'] = ['Python', 'Machine Learning', 'Deep Learning']"
   ]
  },
  {
   "cell_type": "code",
   "execution_count": 37,
   "id": "e22e0dec",
   "metadata": {},
   "outputs": [
    {
     "data": {
      "text/plain": [
       "{'language': 'Python',\n",
       " 'course': 'Data Science Masters',\n",
       " 'topic': ['Python', 'Machine Learning', 'Deep Learning']}"
      ]
     },
     "execution_count": 37,
     "metadata": {},
     "output_type": "execute_result"
    }
   ],
   "source": [
    "dict1"
   ]
  },
  {
   "cell_type": "markdown",
   "id": "27eb4c68",
   "metadata": {},
   "source": [
    "<br>\n",
    "Q8. What are the three view objects in dictionaries? Use the three in-built methods in python to display\n",
    "these three view objects for the given dictionary.\n",
    "\n",
    "dict1 = {'Sport': 'Cricket' , 'Teams': ['India', 'Australia', 'England', 'South Africa', 'Sri Lanka', 'New Zealand']}"
   ]
  },
  {
   "cell_type": "markdown",
   "id": "7b4afde4",
   "metadata": {},
   "source": [
    "Three view objects in dictionaries are - \n",
    "\n",
    "keys() — shows us all the keys of a given dictionary, as a sequence. \n",
    "\n",
    "values() — shows us all values of a dictionary, as a sequence. \n",
    "\n",
    "items() — shows us all the key-value pairs of a dictionary, once again as a sequence."
   ]
  },
  {
   "cell_type": "code",
   "execution_count": 38,
   "id": "58fda2fa",
   "metadata": {},
   "outputs": [],
   "source": [
    "dict1 = {'Sport': 'Cricket' , 'Teams': ['India', 'Australia', 'England', 'South Africa', 'Sri Lanka', 'New Zealand']}"
   ]
  },
  {
   "cell_type": "code",
   "execution_count": 39,
   "id": "f957bf1c",
   "metadata": {},
   "outputs": [
    {
     "data": {
      "text/plain": [
       "dict_keys(['Sport', 'Teams'])"
      ]
     },
     "execution_count": 39,
     "metadata": {},
     "output_type": "execute_result"
    }
   ],
   "source": [
    "dict1.keys()"
   ]
  },
  {
   "cell_type": "code",
   "execution_count": 40,
   "id": "4c4c0abe",
   "metadata": {},
   "outputs": [
    {
     "data": {
      "text/plain": [
       "dict_items([('Sport', 'Cricket'), ('Teams', ['India', 'Australia', 'England', 'South Africa', 'Sri Lanka', 'New Zealand'])])"
      ]
     },
     "execution_count": 40,
     "metadata": {},
     "output_type": "execute_result"
    }
   ],
   "source": [
    "dict1.items()"
   ]
  },
  {
   "cell_type": "code",
   "execution_count": 41,
   "id": "861cff81",
   "metadata": {},
   "outputs": [
    {
     "data": {
      "text/plain": [
       "dict_values(['Cricket', ['India', 'Australia', 'England', 'South Africa', 'Sri Lanka', 'New Zealand']])"
      ]
     },
     "execution_count": 41,
     "metadata": {},
     "output_type": "execute_result"
    }
   ],
   "source": [
    "dict1.values()"
   ]
  }
 ],
 "metadata": {
  "kernelspec": {
   "display_name": "Python 3 (ipykernel)",
   "language": "python",
   "name": "python3"
  },
  "language_info": {
   "codemirror_mode": {
    "name": "ipython",
    "version": 3
   },
   "file_extension": ".py",
   "mimetype": "text/x-python",
   "name": "python",
   "nbconvert_exporter": "python",
   "pygments_lexer": "ipython3",
   "version": "3.9.13"
  }
 },
 "nbformat": 4,
 "nbformat_minor": 5
}
