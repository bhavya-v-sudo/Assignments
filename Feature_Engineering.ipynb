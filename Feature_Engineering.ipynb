{
  "nbformat": 4,
  "nbformat_minor": 0,
  "metadata": {
    "colab": {
      "provenance": [],
      "authorship_tag": "ABX9TyOOAPWsTInRyMZCNz9rhWK1",
      "include_colab_link": true
    },
    "kernelspec": {
      "name": "python3",
      "display_name": "Python 3"
    },
    "language_info": {
      "name": "python"
    }
  },
  "cells": [
    {
      "cell_type": "markdown",
      "metadata": {
        "id": "view-in-github",
        "colab_type": "text"
      },
      "source": [
        "<a href=\"https://colab.research.google.com/github/bhavya-v-sudo/Assignments/blob/main/Feature_Engineering.ipynb\" target=\"_parent\"><img src=\"https://colab.research.google.com/assets/colab-badge.svg\" alt=\"Open In Colab\"/></a>"
      ]
    },
    {
      "cell_type": "markdown",
      "source": [
        "1. What is a parameter?"
      ],
      "metadata": {
        "id": "OzuOPUpc0FlZ"
      }
    },
    {
      "cell_type": "markdown",
      "source": [
        "A variable that is internal to a model and is learned from the training data."
      ],
      "metadata": {
        "id": "S36RwqJX0Fhz"
      }
    },
    {
      "cell_type": "markdown",
      "source": [
        "2. What is correlation?\n",
        "What does negative correlation mean?"
      ],
      "metadata": {
        "id": "5C7RU4Gt0Ffa"
      }
    },
    {
      "cell_type": "markdown",
      "source": [
        "Correlation means how two things are related to each other. In machine learning or data, it tells us how one feature changes when another feature changes.\n",
        "\n",
        "If one goes up and the other also goes up → it's a positive correlation.\n",
        "\n",
        "If one goes up and the other goes down → it's a negative correlation.\n",
        "\n",
        "If there's no pattern → it's no correlation.\n",
        "\n"
      ],
      "metadata": {
        "id": "cqjP7cyL0FdY"
      }
    },
    {
      "cell_type": "markdown",
      "source": [
        "3. Define Machine Learning. What are the main components in Machine Learning?"
      ],
      "metadata": {
        "id": "a3Y2Xorb0FaW"
      }
    },
    {
      "cell_type": "markdown",
      "source": [
        "Define Machine Learning:\n",
        "Machine Learning is a way for computers to learn from data and make decisions or predictions without being directly programmed.\n",
        "\n",
        "Instead of writing step-by-step rules, we give the computer examples (data), and it learns patterns from them.\n",
        "\n",
        "Main Components in Machine Learning:\n",
        "Data – The input information used to train the model.\n",
        "\n",
        "Features – The specific pieces of data used to make predictions (like age, price, etc.).\n",
        "\n",
        "Model – The algorithm that learns from data and makes predictions.\n",
        "\n",
        "Training – The process where the model learns patterns from the data.\n",
        "\n",
        "Testing – Checking how well the model works on new data.\n",
        "\n",
        "Evaluation – Measuring how accurate or good the model’s predictions are."
      ],
      "metadata": {
        "id": "yUcy-xk70FYP"
      }
    },
    {
      "cell_type": "markdown",
      "source": [
        "4. How does loss value help in determining whether the model is good or not?"
      ],
      "metadata": {
        "id": "34YwQv260FNB"
      }
    },
    {
      "cell_type": "markdown",
      "source": [
        "The loss value tells us how wrong the model’s predictions are compared to the actual answers.\n",
        "\n",
        "If the loss is low, the model is doing a good job.\n",
        "\n",
        "If the loss is high, the model is making many mistakes.\n",
        "\n",
        "So, we use the loss value to check if the model is learning well or if it needs improvement."
      ],
      "metadata": {
        "id": "9FiUQzUr3Qnh"
      }
    },
    {
      "cell_type": "markdown",
      "source": [
        "5. What are continuous and categorical variables?"
      ],
      "metadata": {
        "id": "LnggLdIw3QkR"
      }
    },
    {
      "cell_type": "markdown",
      "source": [
        "Continuous variables are numbers that can take any value in a range.\n",
        "Example: Height, weight, temperature, price.\n",
        "(You can have 5.2 kg, 5.25 kg, 5.251 kg, etc.)\n",
        "\n",
        "Categorical variables are values that represent groups or categories.\n",
        "Example: Gender (Male/Female), Color (Red, Blue), City names.\n",
        "(They are labels, not numbers.)"
      ],
      "metadata": {
        "id": "zZxRNYZl3Qhs"
      }
    },
    {
      "cell_type": "markdown",
      "source": [
        "6. How do we handle categorical variables in Machine Learning? What are the common techniques?"
      ],
      "metadata": {
        "id": "g3Nwolf63QfT"
      }
    },
    {
      "cell_type": "markdown",
      "source": [
        "Machine learning models can’t understand text labels directly. So, we need to convert categorical variables into numbers.\n",
        "\n",
        "Common Techniques:\n",
        "\n",
        "**Label Encoding**\n",
        "\n",
        "Each category is given a number.\n",
        "\n",
        "Example: Red = 0, Blue = 1, Green = 2\n",
        "\n",
        "Use when the categories have order (like Low, Medium, High).\n",
        "\n",
        "**One-Hot Encoding**\n",
        "\n",
        "Creates new columns for each category.\n",
        "\n",
        "Example:\n",
        "Color → Red, Blue, Green becomes:\n",
        "\n",
        "Is_Red (1 or 0)\n",
        "\n",
        "Is_Blue (1 or 0)\n",
        "\n",
        "Is_Green (1 or 0)\n",
        "\n",
        "Use when the categories have no order.\n",
        "\n"
      ],
      "metadata": {
        "id": "Fn9YsgYX3Qc_"
      }
    },
    {
      "cell_type": "markdown",
      "source": [
        "7. What do you mean by training and testing a dataset?"
      ],
      "metadata": {
        "id": "XYhXDz6T3QaZ"
      }
    },
    {
      "cell_type": "markdown",
      "source": [
        "In machine learning, we split the data into two parts:\n",
        "\n",
        "**Training dataset**\n",
        "\n",
        "This is the part we use to teach the model.\n",
        "\n",
        "The model learns patterns from this data.\n",
        "\n",
        "**Testing dataset**\n",
        "\n",
        "This part is used to check how well the model works.\n",
        "\n",
        "It contains new data that the model hasn’t seen before.\n",
        "\n",
        "We use it to test the accuracy of the model."
      ],
      "metadata": {
        "id": "cjqeJlMo3QXP"
      }
    },
    {
      "cell_type": "markdown",
      "source": [
        "8. What is sklearn.preprocessing?"
      ],
      "metadata": {
        "id": "ZyD2KhDd-QQw"
      }
    },
    {
      "cell_type": "markdown",
      "source": [
        "sklearn.preprocessing is a part of the scikit-learn library in Python. It helps us prepare (or clean and transform) the data before giving it to a machine learning model.\n",
        "\n",
        "**Why do we use it?**\n",
        "\n",
        "Because machine learning models work better when the data is in the right format.\n",
        "\n",
        "Examples of what preprocessing can do:\n",
        "\n",
        "Scale numbers (e.g., bring all values between 0 and 1)\n",
        "\n",
        "Convert text to numbers (like label encoding or one-hot encoding)\n",
        "\n",
        "Handle missing values\n",
        "\n",
        "Normalize data (so that features are on the same scale)"
      ],
      "metadata": {
        "id": "-j_nsoh0-MOK"
      }
    },
    {
      "cell_type": "markdown",
      "source": [
        "9. What is a Test set?"
      ],
      "metadata": {
        "id": "1WmTh3t9-MKu"
      }
    },
    {
      "cell_type": "markdown",
      "source": [
        "**What is a Test Set?**\n",
        "\n",
        "A test set is a part of the data that we use to check how well a machine learning model works.\n",
        "\n",
        "After the model is trained using the training set,\n",
        "\n",
        "We give it the test set (which it has never seen before)\n",
        "\n",
        "And we see how well it makes predictions."
      ],
      "metadata": {
        "id": "nslem-EM-MI-"
      }
    },
    {
      "cell_type": "markdown",
      "source": [
        "10. How do we split data for model fitting (training and testing) in Python?\n",
        "How do you approach a Machine Learning problem?"
      ],
      "metadata": {
        "id": "uf3iq2iF-MF0"
      }
    },
    {
      "cell_type": "markdown",
      "source": [
        "We usually use train_test_split from sklearn.model_selection.\n",
        "\n",
        "from sklearn.model_selection import train_test_split\n",
        "\n",
        " X = features, y = target/label\n",
        "\n",
        "X_train, X_test, y_train, y_test = train_test_split(X, y, test_size=0.2, random_state=42)\n"
      ],
      "metadata": {
        "id": "KI0c7brp-MDP"
      }
    },
    {
      "cell_type": "markdown",
      "source": [
        "How do you approach a Machine Learning problem?\n",
        "\n",
        "Here’s a basic step-by-step approach:\n",
        "1. Understand the problem\n",
        "\n",
        "* What are you trying to predict or classify?\n",
        "\n",
        "\n",
        "2. Collect and explore data\n",
        "\n",
        "* Load the data\n",
        "\n",
        "* Understand columns, types, missing values, etc.\n",
        "\n",
        "3. Preprocess the data\n",
        "\n",
        "* Handle missing values\n",
        "\n",
        "* Convert categorical data\n",
        "\n",
        "* Scale/normalize if needed\n",
        "\n",
        "4. Split the data\n",
        "\n",
        "* Into training and testing sets\n",
        "\n",
        "5. Choose a model\n",
        "\n",
        "* Example: Linear Regression, Decision Tree, etc.\n",
        "\n",
        "6. Train the model\n",
        "\n",
        "* Fit the model using training data\n",
        "\n",
        "7. Test the model\n",
        "\n",
        "* Predict on test data\n",
        "\n",
        "* Check accuracy or error\n",
        "\n",
        "8. Improve the model (if needed)\n",
        "\n",
        "* Try better preprocessing, tuning, or different models\n",
        "\n"
      ],
      "metadata": {
        "id": "-ZrMGY_a-Lz9"
      }
    },
    {
      "cell_type": "markdown",
      "source": [
        "11. Why do we have to perform EDA before fitting a model to the data?"
      ],
      "metadata": {
        "id": "846R-5TBSMdd"
      }
    },
    {
      "cell_type": "markdown",
      "source": [
        "1. Find patterns\n",
        "\n",
        "* Understand how features are related.\n",
        "\n",
        "2. Detect missing or wrong values\n",
        "\n",
        "* So we can clean or fix them.\n",
        "\n",
        "3. Check data types\n",
        "\n",
        "* Make sure columns are in the right format (numbers, categories, etc.).\n",
        "\n",
        "4. Spot outliers\n",
        "\n",
        "* Values that are too high or too low can affect the model.\n",
        "\n",
        "5. Choose the right features\n",
        "\n",
        "* EDA helps us decide which columns are useful for prediction."
      ],
      "metadata": {
        "id": "g8s-1gblSMaW"
      }
    },
    {
      "cell_type": "markdown",
      "source": [
        "12. What is correlation?"
      ],
      "metadata": {
        "id": "3O7iNxvISMXN"
      }
    },
    {
      "cell_type": "markdown",
      "source": [
        "Correlation means how two things are related to each other. In machine learning or data, it tells us how one feature changes when another feature changes."
      ],
      "metadata": {
        "id": "B47aBpfLSMUn"
      }
    },
    {
      "cell_type": "markdown",
      "source": [
        "13. What does negative correlation mean?"
      ],
      "metadata": {
        "id": "yVAttTHoSMPP"
      }
    },
    {
      "cell_type": "markdown",
      "source": [
        "If one variable goes up and the other variable also goes up → it's a positive correlation.\n",
        "\n",
        "If one variable goes up and the other variable goes down → it's a negative correlation.\n",
        "\n",
        "If there's no pattern → it's no correlation."
      ],
      "metadata": {
        "id": "opTu4YwKSMMC"
      }
    },
    {
      "cell_type": "markdown",
      "source": [
        "14. How can you find correlation between variables in Python?"
      ],
      "metadata": {
        "id": "A_YqzsfUSMJb"
      }
    },
    {
      "cell_type": "markdown",
      "source": [
        "import pandas as pd\n",
        "\n",
        "* Load your data into a DataFrame\n",
        "\n",
        "df = pd.read_csv('your_data.csv')\n",
        "\n",
        "* Find correlation between columns\n",
        "\n",
        "correlation_matrix = df.corr()\n",
        "\n",
        "* print(correlation_matrix)"
      ],
      "metadata": {
        "id": "ojLMZUWHSMG5"
      }
    },
    {
      "cell_type": "markdown",
      "source": [
        "15. What is causation? Explain difference between correlation and causation with an example."
      ],
      "metadata": {
        "id": "QEe84Xh7bAaJ"
      }
    },
    {
      "cell_type": "markdown",
      "source": [
        "What is causation?\n",
        "\n",
        "Causation means that one thing directly causes another thing to happen.\n",
        "\n",
        "If A causes B, then changing A will make B happen or change.\n",
        "\n",
        "It shows a cause-and-effect relationship.\n",
        "\n",
        "\n",
        "### Difference between Correlation and Causation\n",
        "\n",
        "| Correlation                          | Causation                              |\n",
        "|------------------------------------|--------------------------------------|\n",
        "| Shows that two things happen together (related) | Shows that one thing **makes** the other happen |\n",
        "| Can be positive, negative, or none | Always a direct cause-effect link     |\n",
        "| Doesn’t prove one causes the other | Proves that one causes the other     |\n",
        "\n",
        "\n",
        "- **Correlation:**  \n",
        "Ice cream sales and drowning incidents both go up in summer.  \n",
        "They are **correlated** but eating ice cream **does not cause** drowning.\n",
        "\n",
        "- **Causation:**  \n",
        "Smoking causes lung cancer.  \n",
        "Smoking **directly causes** lung cancer."
      ],
      "metadata": {
        "id": "P241S5NxbAXN"
      }
    },
    {
      "cell_type": "markdown",
      "source": [
        "16. What is an Optimizer? What are different types of optimizers? Explain each with an example.\n",
        "\n",
        "\n",
        "\n",
        " What is an Optimizer?\n",
        "\n",
        "An **Optimizer** is an algorithm used in machine learning and deep learning to **update the model’s parameters** (like weights and biases) during training.  \n",
        "The goal of the optimizer is to **minimize the loss function** by finding the best parameters that make the model perform well.\n",
        "\n",
        "\n",
        "\n",
        " Different Types of Optimizers\n",
        "\n",
        "1. **Gradient Descent (GD):**  \n",
        "   - The basic optimizer that updates parameters by moving in the direction of the negative gradient of the loss function.  \n",
        "   - **Example:** If the slope of the loss curve is positive, it moves parameters slightly down to reduce loss.\n",
        "\n",
        "2. **Stochastic Gradient Descent (SGD):**  \n",
        "   - Instead of using the whole dataset, it updates parameters using only one data point (or a small batch) at a time.  \n",
        "   - Faster but noisier updates. Good for large datasets.\n",
        "\n",
        "3. **Mini-batch Gradient Descent:**  \n",
        "   - A mix of GD and SGD: it uses small batches of data to update parameters.  \n",
        "   - Balances speed and accuracy.\n",
        "\n",
        "4. **Momentum:**  \n",
        "   - Improves SGD by adding a \"momentum\" term that helps accelerate updates in the right direction and reduce oscillations.  \n",
        "   - Helps faster convergence.\n",
        "\n",
        "5. **AdaGrad:**  \n",
        "   - Adapts the learning rate for each parameter individually, giving smaller updates for frequent parameters and bigger updates for infrequent ones.  \n",
        "   - Good for sparse data.\n",
        "\n",
        "6. **RMSProp:**  \n",
        "   - Improves AdaGrad by using a moving average of squared gradients to normalize the gradient.  \n",
        "   - Works well for non-stationary objectives.\n",
        "\n",
        "7. **Adam (Adaptive Moment Estimation):**  \n",
        "   - Combines Momentum and RMSProp. It keeps track of both average gradient and squared gradient to adapt learning rates.  \n",
        "   - Currently one of the most popular optimizers.\n",
        "\n",
        "---\n",
        "\n",
        "### Example usage in Python (Adam optimizer):\n",
        "\n",
        "```python\n",
        "from tensorflow.keras.optimizers import Adam\n",
        "\n",
        "optimizer = Adam(learning_rate=0.001)\n",
        "# Use this optimizer when compiling a model in Keras\n",
        "model.compile(optimizer=optimizer, loss='categorical_crossentropy')\n"
      ],
      "metadata": {
        "id": "pb5Rc7IxbAVJ"
      }
    },
    {
      "cell_type": "markdown",
      "source": [
        "17. What is sklearn.linear_model ?"
      ],
      "metadata": {
        "id": "J_MjbD8hbASE"
      }
    },
    {
      "cell_type": "markdown",
      "source": [
        "sklearn.linear_model` is a module in the **scikit-learn** library that contains **linear models** used for both **regression** and **classification** tasks.\n",
        "\n",
        "\n",
        "Common models in `sklearn.linear_model`:\n",
        "\n",
        "Linear Regression, Logistic Regression, Lasso, Ridge, ElasticNet\n",
        "\n",
        "\n"
      ],
      "metadata": {
        "id": "sJUkWM_2bAPd"
      }
    },
    {
      "cell_type": "markdown",
      "source": [
        "19. What does model.predict() do? What arguments must be given?"
      ],
      "metadata": {
        "id": "x9nMUENabANK"
      }
    },
    {
      "cell_type": "markdown",
      "source": [
        "The `model.fit()` function is used to **train the machine learning model** on the given data.\n",
        "\n",
        "- It tells the model to **learn patterns** from the training data.\n",
        "- After fitting, the model will be ready to make predictions using `.predict()`."
      ],
      "metadata": {
        "id": "WWiYY1nObAKo"
      }
    },
    {
      "cell_type": "markdown",
      "source": [
        "20. What are continuous and categorical variables?"
      ],
      "metadata": {
        "id": "68ieT1cLPDdt"
      }
    },
    {
      "cell_type": "markdown",
      "source": [
        "Continuous Variables\n",
        "\n",
        "- These are **numerical values** that can take **any value within a range**.\n",
        "- They are **measurable** and often include decimal points.\n",
        "\n",
        "\n",
        "Categorical Variables\n",
        "\n",
        "- These represent **categories or groups**.\n",
        "- They usually take **a limited number of values**, often as labels or names.\n",
        "- They can be:\n",
        "  - **Nominal** (no natural order): colors, gender, city names.\n",
        "  - **Ordinal** (have a meaningful order): education level, rating (low/medium/high)."
      ],
      "metadata": {
        "id": "huEcerk0PDQb"
      }
    },
    {
      "cell_type": "markdown",
      "source": [
        "21. What is feature scaling? How does it help in Machine Learning?"
      ],
      "metadata": {
        "id": "t2mNRxeKPRAe"
      }
    },
    {
      "cell_type": "markdown",
      "source": [
        "**Feature Scaling** is a method to **normalize** or **standardize** the range of independent variables (features) in a dataset.\n",
        "\n",
        "- It ensures that all features contribute equally to the model.\n",
        "- Especially important for algorithms that compute distances (e.g., KNN, SVM) or rely on gradient descent.\n",
        "- Brings all features to the same scale\n",
        "- Models converge faster with scaled data.\n",
        "- Algorithms like K-Nearest Neighbors (KNN), K-Means, and SVM are sensitive to scale"
      ],
      "metadata": {
        "id": "rvQvDjWLPQzd"
      }
    },
    {
      "cell_type": "markdown",
      "source": [
        "22. How do we perform scaling in Python?"
      ],
      "metadata": {
        "id": "aqsYGMpsPQpS"
      }
    },
    {
      "cell_type": "markdown",
      "source": [
        "from sklearn.preprocessing import StandardScaler\n",
        "\n",
        "scaler = StandardScaler()\n",
        "\n",
        "X_scaled = scaler.fit_transform(X)"
      ],
      "metadata": {
        "id": "Xj5GbWpvQxY4"
      }
    },
    {
      "cell_type": "markdown",
      "source": [
        "23. What is sklearn.preprocessing?"
      ],
      "metadata": {
        "id": "cvkEnzfhQxVQ"
      }
    },
    {
      "cell_type": "markdown",
      "source": [
        "sklearn.preprocessing` is a **module in the scikit-learn library** that provides tools to **prepare and transform data** before feeding it into a machine learning model.\n",
        "\n",
        "It helps in making data **clean, consistent, and ready for training**."
      ],
      "metadata": {
        "id": "KoFvyamwQxTI"
      }
    },
    {
      "cell_type": "markdown",
      "source": [
        "24. How do we split data for model fitting (training and testing) in Python?"
      ],
      "metadata": {
        "id": "2v6cmFBTQxQw"
      }
    },
    {
      "cell_type": "markdown",
      "source": [
        "from sklearn.model_selection import train_test_split\n",
        "\n",
        "X_train, X_test, y_train, y_test = train_test_split(\n",
        "    X, y,             \n",
        "    test_size=0.2,     \n",
        "    random_state=42    \n",
        ")"
      ],
      "metadata": {
        "id": "3WX774CkRKHZ"
      }
    },
    {
      "cell_type": "markdown",
      "source": [
        "25. Explain data encoding?"
      ],
      "metadata": {
        "id": "aUJlDdw6S7D1"
      }
    },
    {
      "cell_type": "markdown",
      "source": [
        "**Data encoding** is the process of converting **categorical (non-numeric)** data into a **numeric format** so that it can be used by machine learning models.\n",
        "\n",
        "Most ML algorithms work only with **numerical inputs**, so encoding is an essential preprocessing step."
      ],
      "metadata": {
        "id": "CGYfuhciS0fE"
      }
    }
  ]
}