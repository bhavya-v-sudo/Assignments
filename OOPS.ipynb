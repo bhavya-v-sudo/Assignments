{
 "cells": [
  {
   "cell_type": "markdown",
   "id": "6145e4be",
   "metadata": {},
   "source": [
    "Q1, Create a vehicle class with an init method having instance variables as name_of_vehicle, max_speed\n",
    "and average_of_vehicle. "
   ]
  },
  {
   "cell_type": "code",
   "execution_count": 1,
   "id": "5cd83a32",
   "metadata": {},
   "outputs": [],
   "source": [
    "class vehicle:\n",
    "    def __init__(self, name_of_vehicle, max_speed, average_of_vehicle):\n",
    "        self.name_of_vehicle = name_of_vehicle\n",
    "        self.max_speed = max_speed\n",
    "        self.average_of_vehicle = average_of_vehicle"
   ]
  },
  {
   "cell_type": "code",
   "execution_count": 4,
   "id": "18f27454",
   "metadata": {},
   "outputs": [],
   "source": [
    "obj_vehicle = vehicle('Hyndai', 120, 30)"
   ]
  },
  {
   "cell_type": "code",
   "execution_count": 5,
   "id": "e0955f6c",
   "metadata": {},
   "outputs": [
    {
     "data": {
      "text/plain": [
       "'Hyndai'"
      ]
     },
     "execution_count": 5,
     "metadata": {},
     "output_type": "execute_result"
    }
   ],
   "source": [
    "obj_vehicle.name_of_vehicle"
   ]
  },
  {
   "cell_type": "code",
   "execution_count": null,
   "id": "fc97c907",
   "metadata": {},
   "outputs": [],
   "source": []
  },
  {
   "cell_type": "markdown",
   "id": "cbea246b",
   "metadata": {},
   "source": [
    "Q2.  Create a child class car from the vehicle class created in Que 1, which will inherit the vehicle class.\n",
    "Create a method named seating_capacity which takes capacity as an argument and returns the name of\n",
    "the vehicle and its seating capacity."
   ]
  },
  {
   "cell_type": "code",
   "execution_count": 12,
   "id": "f11ea4bd",
   "metadata": {},
   "outputs": [],
   "source": [
    "class car(vehicle):\n",
    "    def seating_capacity(self, capacity):\n",
    "        print(f'Name of the Vehicle is {self.name_of_vehicle} and capacity is {capacity}')"
   ]
  },
  {
   "cell_type": "code",
   "execution_count": 13,
   "id": "2c77d104",
   "metadata": {},
   "outputs": [],
   "source": [
    "obj_car = car('Hyndai', 120, 30)"
   ]
  },
  {
   "cell_type": "code",
   "execution_count": 14,
   "id": "0788a61e",
   "metadata": {},
   "outputs": [
    {
     "name": "stdout",
     "output_type": "stream",
     "text": [
      "Name of the Vehicle is Hyndai and capacity is 4\n"
     ]
    }
   ],
   "source": [
    "obj_car.seating_capacity(4)"
   ]
  },
  {
   "cell_type": "code",
   "execution_count": null,
   "id": "3fc243ce",
   "metadata": {},
   "outputs": [],
   "source": []
  },
  {
   "cell_type": "markdown",
   "id": "49381c12",
   "metadata": {},
   "source": [
    "Q3. What is multiple inheritance? Write a python code to demonstrate multiple inheritance."
   ]
  },
  {
   "attachments": {
    "image.png": {
     "image/png": "[encoded data removed]"
    }
   },
   "cell_type": "markdown",
   "id": "7d9e839f",
   "metadata": {},
   "source": [
    "![image.png](attachment:image.png)"
   ]
  },
  {
   "cell_type": "markdown",
   "id": "316817f8",
   "metadata": {},
   "source": [
    "When a class is derived from more than one base class."
   ]
  },
  {
   "cell_type": "code",
   "execution_count": 15,
   "id": "34ad101e",
   "metadata": {},
   "outputs": [],
   "source": [
    "class base_class1:\n",
    "    def test_baseclass1(self):\n",
    "        print('This is Base Class 1')\n",
    "        \n",
    "\n",
    "class base_class2:\n",
    "    def test_baseclass2(self):\n",
    "        print('This is Base Class 2')\n",
    "        \n",
    "\n",
    "class derived_class(base_class1, base_class2):\n",
    "    def test_derviedclass(self):\n",
    "        print('This is dervied class')"
   ]
  },
  {
   "cell_type": "code",
   "execution_count": 16,
   "id": "f685f545",
   "metadata": {},
   "outputs": [],
   "source": [
    "test_derived_class = derived_class()"
   ]
  },
  {
   "cell_type": "code",
   "execution_count": 17,
   "id": "da74e63e",
   "metadata": {},
   "outputs": [
    {
     "name": "stdout",
     "output_type": "stream",
     "text": [
      "This is Base Class 1\n"
     ]
    }
   ],
   "source": [
    "test_derived_class.test_baseclass1()"
   ]
  },
  {
   "cell_type": "code",
   "execution_count": 18,
   "id": "96abd63a",
   "metadata": {},
   "outputs": [
    {
     "name": "stdout",
     "output_type": "stream",
     "text": [
      "This is Base Class 2\n"
     ]
    }
   ],
   "source": [
    "test_derived_class.test_baseclass2()"
   ]
  },
  {
   "cell_type": "code",
   "execution_count": 20,
   "id": "bb13bfee",
   "metadata": {},
   "outputs": [
    {
     "name": "stdout",
     "output_type": "stream",
     "text": [
      "This is dervied class\n"
     ]
    }
   ],
   "source": [
    "test_derived_class.test_derviedclass()"
   ]
  },
  {
   "cell_type": "markdown",
   "id": "ae754e87",
   "metadata": {},
   "source": []
  },
  {
   "cell_type": "markdown",
   "id": "151cca60",
   "metadata": {},
   "source": [
    "Q4. What are getter and setter in python? Create a class and create a getter and a setter method in this\n",
    "class"
   ]
  },
  {
   "cell_type": "markdown",
   "id": "3de8e0c0",
   "metadata": {},
   "source": [
    "getter is a method in python used to get the values of a private attribute.\n",
    "\n",
    "setter is a method in python used to set values to a private attribute."
   ]
  },
  {
   "cell_type": "code",
   "execution_count": 30,
   "id": "39bee8b8",
   "metadata": {},
   "outputs": [],
   "source": [
    "class class1:\n",
    "    def __init__(self, name, rno, gender):\n",
    "        self.__name = name\n",
    "        self.__rno = rno\n",
    "        self.gender = gender\n",
    "        \n",
    "    \n",
    "    #getter\n",
    "    def get_rno(self):\n",
    "        print(self.__rno)\n",
    "        \n",
    "        \n",
    "    #setter\n",
    "    def set_rno(self, rno):\n",
    "        self.__rno = rno"
   ]
  },
  {
   "cell_type": "code",
   "execution_count": 31,
   "id": "e89c563c",
   "metadata": {},
   "outputs": [],
   "source": [
    "obj_class1 = class1('Pw', 1, 'F')"
   ]
  },
  {
   "cell_type": "code",
   "execution_count": 32,
   "id": "943a5121",
   "metadata": {},
   "outputs": [
    {
     "name": "stdout",
     "output_type": "stream",
     "text": [
      "1\n"
     ]
    }
   ],
   "source": [
    "obj_class1.get_rno()"
   ]
  },
  {
   "cell_type": "code",
   "execution_count": 34,
   "id": "b265ae9a",
   "metadata": {},
   "outputs": [],
   "source": [
    "obj_class1.set_rno(4)"
   ]
  },
  {
   "cell_type": "code",
   "execution_count": 35,
   "id": "9c53a162",
   "metadata": {},
   "outputs": [
    {
     "name": "stdout",
     "output_type": "stream",
     "text": [
      "4\n"
     ]
    }
   ],
   "source": [
    "obj_class1.get_rno()"
   ]
  },
  {
   "cell_type": "code",
   "execution_count": null,
   "id": "a870e346",
   "metadata": {},
   "outputs": [],
   "source": []
  },
  {
   "cell_type": "markdown",
   "id": "7de4643f",
   "metadata": {},
   "source": [
    "Q5.What is method overriding in python? Write a python code to demonstrate method overriding."
   ]
  },
  {
   "cell_type": "markdown",
   "id": "54910ba6",
   "metadata": {},
   "source": [
    "Method overriding - When a subclass has a method with same name as its parent class with same parameters then the subclass method oveerides its parent's method."
   ]
  },
  {
   "cell_type": "code",
   "execution_count": 37,
   "id": "b71f524b",
   "metadata": {},
   "outputs": [],
   "source": [
    "class Animal:\n",
    "    def charactersitic(self, sound, legs):\n",
    "        self.sound = sound\n",
    "        self.legs = legs\n",
    "        print('This is from Animal class')\n",
    "        \n",
    "\n",
    "class Dog(Animal):\n",
    "    def charactersitic(self, sound, legs):\n",
    "        print('This is from Dog class')"
   ]
  },
  {
   "cell_type": "code",
   "execution_count": 38,
   "id": "4596ddd9",
   "metadata": {},
   "outputs": [],
   "source": [
    "obj_dog = Dog()"
   ]
  },
  {
   "cell_type": "code",
   "execution_count": 39,
   "id": "2558e327",
   "metadata": {},
   "outputs": [
    {
     "name": "stdout",
     "output_type": "stream",
     "text": [
      "This is from Dog class\n"
     ]
    }
   ],
   "source": [
    "obj_dog.charactersitic('bark', 4)"
   ]
  },
  {
   "cell_type": "code",
   "execution_count": null,
   "id": "ef888aa8",
   "metadata": {},
   "outputs": [],
   "source": []
  }
 ],
 "metadata": {
  "kernelspec": {
   "display_name": "Python 3 (ipykernel)",
   "language": "python",
   "name": "python3"
  },
  "language_info": {
   "codemirror_mode": {
    "name": "ipython",
    "version": 3
   },
   "file_extension": ".py",
   "mimetype": "text/x-python",
   "name": "python",
   "nbconvert_exporter": "python",
   "pygments_lexer": "ipython3",
   "version": "3.9.13"
  }
 },
 "nbformat": 4,
 "nbformat_minor": 5
}
