{
  "nbformat": 4,
  "nbformat_minor": 0,
  "metadata": {
    "colab": {
      "provenance": []
    },
    "kernelspec": {
      "name": "python3",
      "display_name": "Python 3"
    },
    "language_info": {
      "name": "python"
    }
  },
  "cells": [
    {
      "cell_type": "markdown",
      "source": [
        "Q1. What are the characteristics of the tuples? Is tuple immutable?\n"
      ],
      "metadata": {
        "id": "vq_zw5SsPLLc"
      }
    },
    {
      "cell_type": "markdown",
      "source": [
        "Tuples are an ordered collection of elements of different data types. Represented by writing the elements inside the parenthesis separated by commas. Tuples are like lists where we can't change the elements. Hence, tuples are immutable. Tuples are not modifiable in nature. Elements are accessed by index starting from 0."
      ],
      "metadata": {
        "id": "4-M9RDAiPuy6"
      }
    },
    {
      "cell_type": "markdown",
      "source": [
        "Q2. What are the two tuple methods in python? Give an example of each method. Give a reason why\n",
        "tuples have only two in-built methods as compared to Lists.\n"
      ],
      "metadata": {
        "id": "GcGr4JX6PUuc"
      }
    },
    {
      "cell_type": "markdown",
      "source": [
        "The are only two methods for tuple - 1. count() 2. index().\n"
      ],
      "metadata": {
        "id": "fpZHWl4iRpe8"
      }
    },
    {
      "cell_type": "code",
      "source": [
        "a = (1, 5, 8, 97, 2, 1, 5, 1)\n",
        "a.index(5)"
      ],
      "metadata": {
        "colab": {
          "base_uri": "https://localhost:8080/"
        },
        "id": "W4RC_N2GTQkR",
        "outputId": "3576280b-4d4a-49fb-a50f-ef2de12c3d49"
      },
      "execution_count": null,
      "outputs": [
        {
          "output_type": "execute_result",
          "data": {
            "text/plain": [
              "1"
            ]
          },
          "metadata": {},
          "execution_count": 1
        }
      ]
    },
    {
      "cell_type": "code",
      "source": [
        "a.count(5)"
      ],
      "metadata": {
        "colab": {
          "base_uri": "https://localhost:8080/"
        },
        "id": "5JC1jJumTa7D",
        "outputId": "a6bb7a9b-666d-4f92-b327-37a17e296224"
      },
      "execution_count": null,
      "outputs": [
        {
          "output_type": "execute_result",
          "data": {
            "text/plain": [
              "2"
            ]
          },
          "metadata": {},
          "execution_count": 2
        }
      ]
    },
    {
      "cell_type": "markdown",
      "source": [
        "Reason why tuples have only two in-built methods:\n",
        "\n",
        "1. append(), extend(), insert(), remove(), pop() are not used on tuple because they would need the tuple to modify and we know a tuple is immutale."
      ],
      "metadata": {
        "id": "CxXC88uAYb7U"
      }
    },
    {
      "cell_type": "markdown",
      "source": [
        "Q3. Which collection datatypes in python do not allow duplicate items? Write a code using a set to remove\n",
        "duplicates from the given list.\n",
        "\n",
        "List = [1, 1, 1, 2, 1, 3, 1, 4, 2, 1, 2, 2, 2, 3, 2, 4, 3, 1, 3, 2, 3, 3, 3, 4, 4, 1, 4, 2, 4, 3, 4, 4]\n"
      ],
      "metadata": {
        "id": "F54iAEbNPX7m"
      }
    },
    {
      "cell_type": "markdown",
      "source": [
        "Set is a collection which is unordered and unindexed. No duplicate members."
      ],
      "metadata": {
        "id": "6KIDQl-GZY4b"
      }
    },
    {
      "cell_type": "code",
      "source": [
        "List = [1, 1, 1, 2, 1, 3, 1, 4, 2, 1, 2, 2, 2, 3, 2, 4, 3, 1, 3, 2, 3, 3, 3, 4, 4, 1, 4, 2, 4, 3, 4, 4]\n",
        "print(list(set(List)))"
      ],
      "metadata": {
        "colab": {
          "base_uri": "https://localhost:8080/"
        },
        "id": "_S6hL09TZqGY",
        "outputId": "92a0425e-f0a6-4b68-d080-3680f3273643"
      },
      "execution_count": null,
      "outputs": [
        {
          "output_type": "stream",
          "name": "stdout",
          "text": [
            "[1, 2, 3, 4]\n"
          ]
        }
      ]
    },
    {
      "cell_type": "markdown",
      "source": [
        "Q4. Explain the difference between the union() and update() methods for a set. Give an example of\n",
        "each method.\n"
      ],
      "metadata": {
        "id": "JK9sHvCdPc-f"
      }
    },
    {
      "cell_type": "markdown",
      "source": [
        ".union() and .update() both perform union operation. set.update() adds all missing elements to the set on which it is called whereas set.union() creates a new set. Consequently, the return value of set.update() is None (with side effects) and the return value of set.union() is a set (without side effects)."
      ],
      "metadata": {
        "id": "D-6hHUYldJnK"
      }
    },
    {
      "cell_type": "code",
      "source": [
        "s1 = {1, 2, 5, 6, 6}\n",
        "s2 = {7, 8, 8, 8, 9}\n",
        "s1.update(s2)\n",
        "print(s1)\n",
        "s1 = {1, 2, 5, 6, 6}\n",
        "s2 = {7, 8, 8, 8, 9}\n",
        "a = s1.union(s2)\n",
        "print(a)\n",
        "print(s1)"
      ],
      "metadata": {
        "colab": {
          "base_uri": "https://localhost:8080/"
        },
        "id": "SSp2iVHReaHD",
        "outputId": "5f615743-5b08-4cb0-8ce2-0d7a62a1de07"
      },
      "execution_count": null,
      "outputs": [
        {
          "output_type": "stream",
          "name": "stdout",
          "text": [
            "{1, 2, 5, 6, 7, 8, 9}\n",
            "{1, 2, 5, 6, 7, 8, 9}\n",
            "{1, 2, 5, 6}\n"
          ]
        }
      ]
    },
    {
      "cell_type": "markdown",
      "source": [
        "Q5. What is a dictionary? Give an example. Also, state whether a dictionary is ordered or unordered.\n"
      ],
      "metadata": {
        "id": "wXQ57NBoPfyR"
      }
    },
    {
      "cell_type": "markdown",
      "source": [
        "Dictionaries are used to store data values in key:value pairs.\n",
        "\n",
        "A dictionary is a collection which is ordered*, changeable and do not allow duplicates."
      ],
      "metadata": {
        "id": "Wot2VWqmgmoq"
      }
    },
    {
      "cell_type": "code",
      "source": [
        "a = {'name' : 'pw', 'gender' : 'f', 'age' : 89}\n",
        "print(a)"
      ],
      "metadata": {
        "colab": {
          "base_uri": "https://localhost:8080/"
        },
        "id": "p_hE38BThUVX",
        "outputId": "535e117d-e507-45b0-83ec-ff26cb0fad0e"
      },
      "execution_count": null,
      "outputs": [
        {
          "output_type": "stream",
          "name": "stdout",
          "text": [
            "{'name': 'pw', 'gender': 'f', 'age': 89}\n"
          ]
        }
      ]
    },
    {
      "cell_type": "markdown",
      "source": [
        "Q6. Can we create a nested dictionary? If so, please give an example by creating a simple one-level\n",
        "nested dictionary.\n"
      ],
      "metadata": {
        "id": "EhL32CbCPiNY"
      }
    },
    {
      "cell_type": "markdown",
      "source": [
        "Yes one can create nested dictionary. "
      ],
      "metadata": {
        "id": "q_1V0BPIhnfl"
      }
    },
    {
      "cell_type": "code",
      "source": [
        "dict1 = {'key1' : {'a' : 1, 'b' : 2}, 'key2' : {'a' : 4, 'b' : 6}}\n",
        "print(dict1['key1']['a'])"
      ],
      "metadata": {
        "colab": {
          "base_uri": "https://localhost:8080/"
        },
        "id": "7VC8D39Z4-yc",
        "outputId": "a7fec5d3-5588-4c11-ca58-490635e2eb0e"
      },
      "execution_count": null,
      "outputs": [
        {
          "output_type": "stream",
          "name": "stdout",
          "text": [
            "1\n"
          ]
        }
      ]
    },
    {
      "cell_type": "markdown",
      "source": [
        "Q7. Using setdefault() method, create key named topics in the given dictionary and also add the value of\n",
        "the key as this list ['Python', 'Machine Learning’, 'Deep Learning']\n",
        "\n",
        "dict1 = {'language' : 'Python', 'course': 'Data Science Masters'}\n"
      ],
      "metadata": {
        "id": "7JeKO4kIPki7"
      }
    },
    {
      "cell_type": "code",
      "source": [
        "dict1 = {'language' : 'Python', 'course': 'Data Science Masters'}\n",
        "dict1.setdefault('topics', ['Python', 'Machine Learning', 'Deep Learning'])"
      ],
      "metadata": {
        "colab": {
          "base_uri": "https://localhost:8080/"
        },
        "id": "8N5c96eMXAHj",
        "outputId": "0368bee9-439c-4134-f3bf-b9faf333c93c"
      },
      "execution_count": null,
      "outputs": [
        {
          "output_type": "execute_result",
          "data": {
            "text/plain": [
              "['Python', 'Machine Learning', 'Deep Learning']"
            ]
          },
          "metadata": {},
          "execution_count": 7
        }
      ]
    },
    {
      "cell_type": "markdown",
      "source": [
        "Q8. What are the three view objects in dictionaries? Use the three in-built methods in python to display\n",
        "these three view objects for the given dictionary.\n",
        "\n",
        "dict1 = {'Sport': 'Cricket' , 'Teams': ['India', 'Australia', 'England', 'South Africa', 'Sri Lanka', 'New Zealand']}"
      ],
      "metadata": {
        "id": "nlfhq-_bPo6N"
      }
    },
    {
      "cell_type": "markdown",
      "source": [
        "The main view objects of dictionary in python are keys, values and items."
      ],
      "metadata": {
        "id": "FK74t0eeZFDQ"
      }
    },
    {
      "cell_type": "code",
      "source": [
        "dict1 = {'Sport': 'Cricket' , 'Teams': ['India', 'Australia', 'England', 'South Africa', 'Sri Lanka', 'New Zealand']}\n",
        "list(dict1.keys())"
      ],
      "metadata": {
        "colab": {
          "base_uri": "https://localhost:8080/"
        },
        "id": "0UnAJF9CYbmX",
        "outputId": "36f3ec47-553a-4501-9e42-47d245cf630d"
      },
      "execution_count": null,
      "outputs": [
        {
          "output_type": "execute_result",
          "data": {
            "text/plain": [
              "['Sport', 'Teams']"
            ]
          },
          "metadata": {},
          "execution_count": 11
        }
      ]
    },
    {
      "cell_type": "code",
      "source": [
        "list(dict1.values())"
      ],
      "metadata": {
        "colab": {
          "base_uri": "https://localhost:8080/"
        },
        "id": "uIxCfFEyZUoX",
        "outputId": "1182110b-ad63-4181-dbd1-fe4e2a7be779"
      },
      "execution_count": null,
      "outputs": [
        {
          "output_type": "execute_result",
          "data": {
            "text/plain": [
              "['Cricket',\n",
              " ['India', 'Australia', 'England', 'South Africa', 'Sri Lanka', 'New Zealand']]"
            ]
          },
          "metadata": {},
          "execution_count": 12
        }
      ]
    },
    {
      "cell_type": "code",
      "source": [
        "list(dict1.items())"
      ],
      "metadata": {
        "colab": {
          "base_uri": "https://localhost:8080/"
        },
        "id": "h1wvkRQKZhyO",
        "outputId": "28dd9de2-6cb2-469b-f6d3-583844c9e385"
      },
      "execution_count": null,
      "outputs": [
        {
          "output_type": "execute_result",
          "data": {
            "text/plain": [
              "[('Sport', 'Cricket'),\n",
              " ('Teams',\n",
              "  ['India',\n",
              "   'Australia',\n",
              "   'England',\n",
              "   'South Africa',\n",
              "   'Sri Lanka',\n",
              "   'New Zealand'])]"
            ]
          },
          "metadata": {},
          "execution_count": 13
        }
      ]
    }
  ]
}