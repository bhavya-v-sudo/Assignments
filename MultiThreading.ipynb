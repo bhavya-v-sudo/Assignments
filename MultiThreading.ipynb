{
 "cells": [
  {
   "cell_type": "markdown",
   "id": "02402975",
   "metadata": {},
   "source": [
    "Q1. What is multithreading in python? Why is it used? Name the module used to handle threads in python."
   ]
  },
  {
   "cell_type": "markdown",
   "id": "8765b511",
   "metadata": {},
   "source": [
    "Multithreading - In Python, multithreading allows you to run multiple threads concurrently within a single process, which is also known as thread-based parallelism. This means a program can perform multiple tasks at the same time, enhancing its efficiency and responsiveness.\n",
    "\n",
    "\n",
    "All important aspects such as performance, rendering, speed and time consumption will drastically be improved by using proper Python multithreading.\n",
    "\n",
    "\n",
    "import threading -> so the module name is threading.\n",
    "\n"
   ]
  },
  {
   "cell_type": "markdown",
   "id": "45c88eb9",
   "metadata": {},
   "source": [
    "Q2. Why threading module used? Write the use of the following functions\n",
    "\n",
    "\n",
    "activeCount()\n",
    "\n",
    "currentThread()\n",
    " \n",
    "enumerate()"
   ]
  },
  {
   "cell_type": "markdown",
   "id": "1fa76619",
   "metadata": {},
   "source": [
    "Threading allows you to have different parts of your process run concurrently.\n",
    "\n",
    "\n",
    "activeCount() - \n",
    "The threading module allows multiple threads of execution to take place in a Python program.\n",
    "\n",
    "currentThread() -\n",
    "Return the current Thread object, corresponding to the caller’s thread of control.\n",
    "\n",
    "\n",
    "enumerate() -\n",
    "Return a list of all Thread objects currently active. The list includes daemonic threads and dummy thread objects created by current_thread(). It excludes terminated threads and threads that have not yet been started. However, the main thread is always part of the result, even when terminated."
   ]
  },
  {
   "cell_type": "markdown",
   "id": "d8cc7c00",
   "metadata": {},
   "source": [
    "Q3. Explain the following functions\n",
    "\n",
    " 1. run()\n",
    " \n",
    " 2. start()\n",
    " \n",
    " 3. join()\n",
    "\n",
    " 4. isAlive()"
   ]
  },
  {
   "cell_type": "markdown",
   "id": "1ab98c50",
   "metadata": {},
   "source": [
    "run() -\n",
    "The function is executed synchronously, and no new thread is created.\n",
    "When you create a thread using the Thread class and call its start() method, Python will internally call the run() method in a separate thread.\n",
    "\n"
   ]
  },
  {
   "cell_type": "code",
   "execution_count": 4,
   "id": "7a3a8379",
   "metadata": {},
   "outputs": [
    {
     "name": "stdout",
     "output_type": "stream",
     "text": [
      "1\n"
     ]
    },
    {
     "data": {
      "text/plain": [
       "1"
      ]
     },
     "execution_count": 4,
     "metadata": {},
     "output_type": "execute_result"
    }
   ],
   "source": [
    "from threading import Thread\n",
    "t = Thread(target=print, args=[1])\n",
    "t.run()  # Calling run() directly\n",
    "1  # Output is printed immediately in the main thread"
   ]
  },
  {
   "cell_type": "markdown",
   "id": "b93667bb",
   "metadata": {},
   "source": [
    "start() - Unlike the run() method, which just executes the thread’s target function in the current thread, start() is the proper way to begin a thread, ensuring that it runs in the background"
   ]
  },
  {
   "cell_type": "code",
   "execution_count": 5,
   "id": "2df94c7c",
   "metadata": {},
   "outputs": [
    {
     "name": "stdout",
     "output_type": "stream",
     "text": [
      "Thread started\n",
      "Thread finished\n"
     ]
    }
   ],
   "source": [
    "import threading\n",
    "import time\n",
    "\n",
    "def my_function():\n",
    "    print(\"Thread started\")\n",
    "    time.sleep(2)\n",
    "    print(\"Thread finished\")\n",
    "\n",
    "# Create a thread\n",
    "t = threading.Thread(target=my_function)\n",
    "\n",
    "# Start the thread\n",
    "t.start()"
   ]
  },
  {
   "cell_type": "markdown",
   "id": "73d9aa6f",
   "metadata": {},
   "source": [
    "join() - The join() method in Python's threading.Thread class is used to wait for a thread to complete its execution. When you call join() on a thread, the calling thread (usually the main thread) pauses and waits until the thread on which join() was called has finished running."
   ]
  },
  {
   "cell_type": "code",
   "execution_count": 14,
   "id": "c1a8f2e0",
   "metadata": {},
   "outputs": [
    {
     "name": "stdout",
     "output_type": "stream",
     "text": [
      "Thread started\n",
      "Thread started\n",
      "Thread started\n",
      "Thread finishedThread finished\n",
      "\n",
      "Thread finished\n"
     ]
    }
   ],
   "source": [
    "import threading\n",
    "import time\n",
    "\n",
    "def my_function():\n",
    "    print(\"Thread started\")\n",
    "    time.sleep(2)\n",
    "    print(\"Thread finished\")\n",
    "\n",
    "# Create a thread\n",
    "t = [threading.Thread(target=my_function) for i in range(3)]\n",
    "\n",
    "# Start the thread\n",
    "for i in t:\n",
    "    i.start()\n",
    "    \n",
    "    \n",
    "# Main thread waits for t to finish\n",
    "for i in t:\n",
    "    i.join()\n",
    "    "
   ]
  },
  {
   "cell_type": "code",
   "execution_count": 15,
   "id": "41933b6a",
   "metadata": {},
   "outputs": [
    {
     "data": {
      "text/plain": [
       "[<Thread(Thread-18, stopped 6392)>,\n",
       " <Thread(Thread-19, stopped 24984)>,\n",
       " <Thread(Thread-20, stopped 36168)>]"
      ]
     },
     "execution_count": 15,
     "metadata": {},
     "output_type": "execute_result"
    }
   ],
   "source": [
    "t"
   ]
  },
  {
   "cell_type": "markdown",
   "id": "4dd89929",
   "metadata": {},
   "source": [
    "is_alive()-\n",
    "The is_alive() method in Python's threading.Thread class is used to check if a thread is still executing (alive). It returns True if the thread is currently running or has been started but hasn't finished yet, and False if the thread has finished executing."
   ]
  },
  {
   "cell_type": "code",
   "execution_count": 16,
   "id": "943ac927",
   "metadata": {},
   "outputs": [
    {
     "name": "stdout",
     "output_type": "stream",
     "text": [
      "Is thread alive before start?: False\n",
      "Thread started\n",
      "Is thread alive after start?: True\n",
      "Thread finished\n",
      "Is thread alive after join?: False\n"
     ]
    }
   ],
   "source": [
    "import threading\n",
    "import time\n",
    "\n",
    "def my_function():\n",
    "    print(\"Thread started\")\n",
    "    time.sleep(2)\n",
    "    print(\"Thread finished\")\n",
    "\n",
    "# Create a thread\n",
    "t = threading.Thread(target=my_function)\n",
    "\n",
    "# Check if the thread is alive before starting it\n",
    "print(\"Is thread alive before start?:\", t.is_alive())  # Output: False\n",
    "\n",
    "# Start the thread\n",
    "t.start()\n",
    "\n",
    "# Check if the thread is alive after starting it\n",
    "print(\"Is thread alive after start?:\", t.is_alive())  # Output: True\n",
    "\n",
    "# Wait for the thread to finish\n",
    "t.join()\n",
    "\n",
    "# Check if the thread is alive after completion\n",
    "print(\"Is thread alive after join?:\", t.is_alive())  # Output: False"
   ]
  },
  {
   "cell_type": "markdown",
   "id": "d16e4aa1",
   "metadata": {},
   "source": [
    "Q4. Write a python program to create two threads. Thread one must print the list of squares and thread\n",
    "two must print the list of cubes."
   ]
  },
  {
   "cell_type": "code",
   "execution_count": 9,
   "id": "c5b4de8e",
   "metadata": {},
   "outputs": [],
   "source": [
    "import threading\n",
    "import time\n",
    "\n",
    "def list_squares():\n",
    "    square1 = []\n",
    "    i = 0\n",
    "    while i < 10:\n",
    "        square1.append(i**2)  # Appends the square of i\n",
    "        print(square1)        # Prints the list at each step\n",
    "        time.sleep(1)\n",
    "        i += 1                # Increment\n",
    "\n",
    "\n",
    "def list_cubes():\n",
    "    cube1 = []\n",
    "    i = 0\n",
    "    while i < 10:\n",
    "        cube1.append(i**3)  # Appends the square of i\n",
    "        print(cube1)        # Prints the list at each step\n",
    "        time.sleep(1)\n",
    "        i += 1                # Increment"
   ]
  },
  {
   "cell_type": "code",
   "execution_count": 20,
   "id": "ab498862",
   "metadata": {},
   "outputs": [],
   "source": [
    "thread1 = threading.Thread(target = list_squares)\n",
    "thread2 = threading.Thread(target = list_cubes)"
   ]
  },
  {
   "cell_type": "code",
   "execution_count": 21,
   "id": "5e4b219f",
   "metadata": {},
   "outputs": [
    {
     "name": "stdout",
     "output_type": "stream",
     "text": [
      "[0]\n",
      "[0]\n",
      "[0, 1]\n",
      "[0, 1]\n",
      "[0, 1, 4][0, 1, 8]\n",
      "\n",
      "[0, 1, 4, 9][0, 1, 8, 27]\n",
      "\n",
      "[0, 1, 4, 9, 16][0, 1, 8, 27, 64]\n",
      "\n",
      "[0, 1, 8, 27, 64, 125][0, 1, 4, 9, 16, 25]\n",
      "\n",
      "[0, 1, 4, 9, 16, 25, 36]\n",
      "[0, 1, 8, 27, 64, 125, 216]\n",
      "[0, 1, 8, 27, 64, 125, 216, 343][0, 1, 4, 9, 16, 25, 36, 49]\n",
      "\n",
      "[0, 1, 8, 27, 64, 125, 216, 343, 512][0, 1, 4, 9, 16, 25, 36, 49, 64]\n",
      "\n",
      "[0, 1, 8, 27, 64, 125, 216, 343, 512, 729]\n",
      "[0, 1, 4, 9, 16, 25, 36, 49, 64, 81]\n"
     ]
    }
   ],
   "source": [
    "for i in (thread1, thread2):\n",
    "    i.start()"
   ]
  },
  {
   "cell_type": "markdown",
   "id": "32714fc2",
   "metadata": {},
   "source": [
    "Q5. State advantages and disadvantages of multithreading."
   ]
  },
  {
   "cell_type": "markdown",
   "id": "68ce0886",
   "metadata": {},
   "source": [
    "Advantages of Multithreading:\n",
    "\n",
    "1. Improves execution speed (by combining CPU machine and I/O wait times).\n",
    "2. Multithreading can be used to achieve concurrency.\n",
    "3. Reduces the amount of time it takes for context switching.\n",
    "4. Improves responsiveness.\n",
    "5. Make synchronous processing possible (separates the execution of independent threads).\n",
    "6. Increases throughput.\n",
    "7. Performs foreground and background work in parallel.\n",
    "\n",
    "Disadvantages of Multithreading:\n",
    "\n",
    "1. Because the threads share the same address space and may access resources such as open files, difficulties might arise in managing threads if they utilize incompatible data structures.\n",
    "2. If we don't optimize the number of threads, instead of gaining performance, we may lose performance.\n",
    "3.If a parent process requires several threads to function properly, the child processes should be multithreaded as well, as they may all be required."
   ]
  },
  {
   "cell_type": "markdown",
   "id": "2d49b215",
   "metadata": {},
   "source": [
    "Q6. Explain deadlocks and race conditions."
   ]
  },
  {
   "cell_type": "markdown",
   "id": "58e085a4",
   "metadata": {},
   "source": [
    "Deadlocks -\n",
    "\n",
    "When multiple threads try to access a shared resource like a file or a printer. For instance, there are two threads T1 and T2 both running. Both threads want to read the same file and print its content in a printer.\n",
    "\n",
    "1. T1 has acquired the lock on the file abc.doc. T2 has acquired the lock on the printer.\n",
    "2. T1 wants to acquire the printer to print the file, however, the printer has been locked by T2.\n",
    "3. T2 wants to acquire the file abc.doc to print it, however, the file has been locked by T1.\n",
    "4. Both T1 and T2 will not release the locks forever, both will not acquire the resources forever.\n",
    "5. This situation is a deadlock."
   ]
  },
  {
   "cell_type": "markdown",
   "id": "9b0f8f59",
   "metadata": {},
   "source": [
    "Race Conditions-\n",
    "\n",
    "The Race condition is the most common issue in multi-threaded applications. The behaviour of a program or system depends on the order and timing of different events or processes. When multiple processes or threads access shared resources (e.g. variables, files, databases) concurrently and in an unpredictable order, a race condition may arise. It can cause unexpected and unpredictable behaviour in a program, such as data corruption, program crashes, or incorrect results.\n",
    "\n",
    "To avoid race conditions, developers need to use synchronization techniques such as locks, semaphores, or monitors to ensure that only one thread or process can access shared resources at a time, or use atomic operations to perform a single, indivisible operation on a shared resource, or use data versioning, during every update, check if the version of the current data matches the version when you read the data."
   ]
  },
  {
   "cell_type": "code",
   "execution_count": null,
   "id": "89283fcf",
   "metadata": {},
   "outputs": [],
   "source": []
  }
 ],
 "metadata": {
  "kernelspec": {
   "display_name": "Python 3 (ipykernel)",
   "language": "python",
   "name": "python3"
  },
  "language_info": {
   "codemirror_mode": {
    "name": "ipython",
    "version": 3
   },
   "file_extension": ".py",
   "mimetype": "text/x-python",
   "name": "python",
   "nbconvert_exporter": "python",
   "pygments_lexer": "ipython3",
   "version": "3.9.13"
  }
 },
 "nbformat": 4,
 "nbformat_minor": 5
}
